{
 "cells": [
  {
   "cell_type": "markdown",
   "metadata": {},
   "source": [
    "# Navigation\n",
    "\n",
    "---\n",
    "\n",
    "In this notebook we use the Unity ML-Agents environment\n",
    "### 1. Start the Environment\n",
    "\n",
    "We begin by importing some necessary packages.  If the code cell below returns an error, please revisit the project instructions to double-check that you have installed [Unity ML-Agents](https://github.com/Unity-Technologies/ml-agents/blob/master/docs/Installation.md) and [NumPy](http://www.numpy.org/)."
   ]
  },
  {
   "cell_type": "code",
   "execution_count": 1,
   "metadata": {},
   "outputs": [],
   "source": [
    "from unityagents import UnityEnvironment\n",
    "import numpy as np\n",
    "from matplotlib import pyplot as plt\n",
    "import torch"
   ]
  },
  {
   "cell_type": "markdown",
   "metadata": {},
   "source": [
    "Next, we will start the environment!  **_Before running the code cell below_**, change the `file_name` parameter to match the location of the Unity environment that you downloaded.\n",
    "\n",
    "- **Mac**: `\"path/to/Banana.app\"`\n",
    "- **Windows** (x86): `\"path/to/Banana_Windows_x86/Banana.exe\"`\n",
    "- **Windows** (x86_64): `\"path/to/Banana_Windows_x86_64/Banana.exe\"`\n",
    "- **Linux** (x86): `\"path/to/Banana_Linux/Banana.x86\"`\n",
    "- **Linux** (x86_64): `\"path/to/Banana_Linux/Banana.x86_64\"`\n",
    "- **Linux** (x86, headless): `\"path/to/Banana_Linux_NoVis/Banana.x86\"`\n",
    "- **Linux** (x86_64, headless): `\"path/to/Banana_Linux_NoVis/Banana.x86_64\"`\n",
    "\n",
    "For instance, if you are using a Mac, then you downloaded `Banana.app`.  If this file is in the same folder as the notebook, then the line below should appear as follows:\n",
    "```\n",
    "env = UnityEnvironment(file_name=\"Banana.app\")\n",
    "```"
   ]
  },
  {
   "cell_type": "code",
   "execution_count": 2,
   "metadata": {},
   "outputs": [
    {
     "name": "stderr",
     "output_type": "stream",
     "text": [
      "INFO:unityagents:\n",
      "'Academy' started successfully!\n",
      "Unity Academy name: Academy\n",
      "        Number of Brains: 1\n",
      "        Number of External Brains : 1\n",
      "        Lesson number : 0\n",
      "        Reset Parameters :\n",
      "\t\t\n",
      "Unity brain name: BananaBrain\n",
      "        Number of Visual Observations (per agent): 0\n",
      "        Vector Observation space type: continuous\n",
      "        Vector Observation space size (per agent): 37\n",
      "        Number of stacked Vector Observation: 1\n",
      "        Vector Action space type: discrete\n",
      "        Vector Action space size (per agent): 4\n",
      "        Vector Action descriptions: , , , \n"
     ]
    }
   ],
   "source": [
    "from sys import platform\n",
    "if platform == 'linux':\n",
    "    bananFile = r'Banana_Linux/Banana.x86_64'\n",
    "else:\n",
    "    bananFile = r\"Banana_Windows_x86\\Banana.exe\"\n",
    "    \n",
    "env = UnityEnvironment(file_name=bananFile)"
   ]
  },
  {
   "cell_type": "markdown",
   "metadata": {},
   "source": [
    "Environments contain **_brains_** which are responsible for deciding the actions of their associated agents. Here we check for the first brain available, and set it as the default brain we will be controlling from Python."
   ]
  },
  {
   "cell_type": "code",
   "execution_count": 3,
   "metadata": {},
   "outputs": [],
   "source": [
    "# get the default brain\n",
    "brain_name = env.brain_names[0]\n",
    "brain = env.brains[brain_name]"
   ]
  },
  {
   "cell_type": "markdown",
   "metadata": {},
   "source": [
    "### 4. Define the agent and training:"
   ]
  },
  {
   "cell_type": "code",
   "execution_count": 4,
   "metadata": {},
   "outputs": [],
   "source": [
    "from dqn_agent import Agent\n",
    "\n",
    "agent = Agent(state_size=37, action_size=4, seed=0, fc1_units=50, fc2_units=40)\n"
   ]
  },
  {
   "cell_type": "code",
   "execution_count": 5,
   "metadata": {},
   "outputs": [
    {
     "data": {
      "text/plain": [
       "QNetwork(\n",
       "  (fc1): Linear(in_features=37, out_features=50, bias=True)\n",
       "  (fc2): Linear(in_features=50, out_features=40, bias=True)\n",
       "  (fc3): Linear(in_features=40, out_features=4, bias=True)\n",
       ")"
      ]
     },
     "execution_count": 5,
     "metadata": {},
     "output_type": "execute_result"
    }
   ],
   "source": [
    "agent.qnetwork_local.train()"
   ]
  },
  {
   "cell_type": "code",
   "execution_count": 6,
   "metadata": {},
   "outputs": [
    {
     "name": "stdout",
     "output_type": "stream",
     "text": [
      "Episode 50\tEps 0.78\tAverage Score: 0.46\n",
      "Episode 100\tEps 0.61\tAverage Score: 1.01\n",
      "Episode 150\tEps 0.47\tAverage Score: 2.29\n",
      "Episode 200\tEps 0.37\tAverage Score: 4.45\n",
      "Episode 250\tEps 0.29\tAverage Score: 6.84\n",
      "Episode 300\tEps 0.22\tAverage Score: 7.86\n",
      "Episode 350\tEps 0.17\tAverage Score: 9.03\n",
      "Episode 400\tEps 0.13\tAverage Score: 10.50\n",
      "Episode 450\tEps 0.10\tAverage Score: 12.00\n",
      "Episode 500\tEps 0.08\tAverage Score: 13.55\n",
      "Episode 550\tEps 0.06\tAverage Score: 14.77\n",
      "Episode 600\tEps 0.05\tAverage Score: 15.46\n",
      "Episode 650\tEps 0.04\tAverage Score: 15.41\n",
      "Episode 700\tEps 0.03\tAverage Score: 15.10\n",
      "Episode 750\tEps 0.02\tAverage Score: 15.02\n",
      "Episode 800\tEps 0.02\tAverage Score: 15.63\n"
     ]
    },
    {
     "data": {
      "image/png": "[encoded data removed]",
      "text/plain": [
       "<Figure size 432x288 with 1 Axes>"
      ]
     },
     "metadata": {
      "needs_background": "light"
     },
     "output_type": "display_data"
    }
   ],
   "source": [
    "from collections import namedtuple, deque\n",
    "\n",
    "#def dqn(n_episodes=2000, max_t=1000, eps_start=1.0, eps_end=0.01, eps_decay=0.995):\n",
    "def dqn(n_episodes=600, max_t=300, eps_start=1.0, eps_end=0.01, eps_decay=0.995):\n",
    "    \"\"\"Deep Q-Learning.\n",
    "    \n",
    "    Params\n",
    "    ======\n",
    "        n_episodes (int): maximum number of training episodes\n",
    "        max_t (int): maximum number of timesteps per episode\n",
    "        eps_start (float): starting value of epsilon, for epsilon-greedy action selection\n",
    "        eps_end (float): minimum value of epsilon\n",
    "        eps_decay (float): multiplicative factor (per episode) for decreasing epsilon\n",
    "    \"\"\"\n",
    "    scores = []                        # list containing scores from each episode\n",
    "    scores_window = deque(maxlen=100)  # last 100 scores\n",
    "    eps = eps_start                    # initialize epsilon\n",
    "    for i_episode in range(1, n_episodes+1):\n",
    "        env_info = env.reset(train_mode=True)[brain_name]  # Roee\n",
    "        #state = env.reset()  # Roee : added commented\n",
    "        state = env_info.vector_observations[0]\n",
    "        \n",
    "        #     action = np.random.randint(action_size)        # select an action\n",
    "        #     env_info = env.step(action)[brain_name]        # send the action to the environment\n",
    "        #     next_state = env_info.vector_observations[0]   # get the next state\n",
    "        #     reward = env_info.rewards[0]                   # get the reward\n",
    "        #     done = env_info.local_done[0]                  # see if episode has finished\n",
    "        #     score += reward                                # update the score\n",
    "        #     state = next_state      \n",
    "        \n",
    "        score = 0\n",
    "        for t in range(max_t):\n",
    "            \n",
    "            action = agent.act(state, eps)                \n",
    "            env_info = env.step(action)[brain_name]\n",
    "            \n",
    "            \n",
    "            next_state = env_info.vector_observations[0]   # get the next state\n",
    "            reward = env_info.rewards[0]                   # get the reward\n",
    "            done = env_info.local_done[0]                  # see if episode has finished\n",
    "            \n",
    "        \n",
    "            # next_state, reward, done, _ = env.step(action)\n",
    "            if agent.qnetwork_local.training:  # ROEE\n",
    "                agent.step(state, action, reward-0.01, next_state, done)  # ROEE\n",
    "\n",
    "            state = next_state\n",
    "            score += reward\n",
    "            if done:\n",
    "                break \n",
    "        scores_window.append(score)       # save most recent score\n",
    "        scores.append(score)              # save most recent score\n",
    "        eps = max(eps_end, eps_decay*eps) # decrease epsilon\n",
    "        print('\\rEpisode {}\\tEps {:.2f}\\tAverage Score: {:.2f}'.format(i_episode, eps, np.mean(scores_window)), end=\"\")\n",
    "        if i_episode % 50 == 0:\n",
    "            print('\\rEpisode {}\\tEps {:.2f}\\tAverage Score: {:.2f}'.format(i_episode, eps, np.mean(scores_window)))\n",
    "        if np.mean(scores_window)>=30.0:\n",
    "            print('\\nEnvironment solved in {:d} episodes!\\tAverage Score: {:.2f}'.format(i_episode-100, np.mean(scores_window)))\n",
    "            torch.save(agent.qnetwork_local.state_dict(), 'checkpoint.pth')\n",
    "            break\n",
    "    return scores\n",
    "\n",
    "scores = dqn(n_episodes=800)\n",
    "\n",
    "# plot the scores\n",
    "fig = plt.figure()\n",
    "ax = fig.add_subplot(111)\n",
    "plt.plot(np.arange(len(scores)), scores)\n",
    "plt.ylabel('Score')\n",
    "plt.xlabel('Episode #')\n",
    "plt.show()"
   ]
  },
  {
   "cell_type": "markdown",
   "metadata": {},
   "source": [
    "## Test 100 episodes:"
   ]
  },
  {
   "cell_type": "code",
   "execution_count": 9,
   "metadata": {},
   "outputs": [
    {
     "name": "stdout",
     "output_type": "stream",
     "text": [
      "Episode 50\tEps 0.01\tAverage Score: 15.90\n",
      "Episode 100\tEps 0.01\tAverage Score: 15.75\n"
     ]
    },
    {
     "data": {
      "image/png": "[encoded data removed]",
      "text/plain": [
       "<Figure size 432x288 with 1 Axes>"
      ]
     },
     "metadata": {
      "needs_background": "light"
     },
     "output_type": "display_data"
    }
   ],
   "source": [
    "agent.qnetwork_local.eval()\n",
    "agent.qnetwork_target.eval()\n",
    "with torch.no_grad():\n",
    "    scores = dqn(n_episodes=100, eps_start=0.01)\n",
    "fig = plt.figure()\n",
    "ax = fig.add_subplot(111)\n",
    "plt.plot(np.arange(len(scores)), scores)\n",
    "plt.ylabel('Score')\n",
    "plt.xlabel('Episode #')\n",
    "plt.show()"
   ]
  },
  {
   "cell_type": "code",
   "execution_count": 10,
   "metadata": {},
   "outputs": [
    {
     "data": {
      "text/plain": [
       "False"
      ]
     },
     "execution_count": 10,
     "metadata": {},
     "output_type": "execute_result"
    }
   ],
   "source": [
    "# agent.qnetwork_local.eval()\n",
    "# agent.qnetwork_target.eval()\n",
    "import torch\n",
    "agent.qnetwork_local.training"
   ]
  },
  {
   "cell_type": "markdown",
   "metadata": {},
   "source": [
    "# Save test and load \n",
    "\n",
    "### Make sure model is saved:"
   ]
  },
  {
   "cell_type": "code",
   "execution_count": 7,
   "metadata": {},
   "outputs": [],
   "source": [
    "torch.save(agent.qnetwork_local.state_dict(), r'checkpoint600_37fc50fc40fc4.pth')\n",
    "\n",
    "import pickle\n",
    "memory = agent.memory.memory.copy()\n",
    "with open('checkpoint600_37fc50fc40fc4_memory_pickelTest1.dat','wb') as outf:\n",
    "    for mem in memory:\n",
    "        for field in mem:\n",
    "            pickle.dump(field, outf)"
   ]
  },
  {
   "cell_type": "markdown",
   "metadata": {},
   "source": [
    "### Test model (visually):"
   ]
  },
  {
   "cell_type": "code",
   "execution_count": 13,
   "metadata": {},
   "outputs": [
    {
     "name": "stdout",
     "output_type": "stream",
     "text": [
      "Blue...\n",
      "Yellow!\n",
      "Yellow!\n",
      "Yellow!\n",
      "Yellow!\n",
      "Yellow!\n",
      "Yellow!\n",
      "Yellow!\n",
      "Yellow!\n",
      "Yellow!\n",
      "Yellow!\n",
      "Yellow!\n",
      "Yellow!\n",
      "Yellow!\n",
      "Number of steps = 300\n",
      "Score = 12.0\n"
     ]
    }
   ],
   "source": [
    "import time\n",
    "agent.qnetwork_local.eval()\n",
    "agent.qnetwork_target.eval()\n",
    "env_info = env.reset(train_mode=False)[brain_name]  # Roee\n",
    "#state = env.reset()  # Roee : added commented\n",
    "state = env_info.vector_observations[0]\n",
    "\n",
    "score = 0\n",
    "steps = 0\n",
    "with torch.no_grad():\n",
    "    while True:\n",
    "        steps+=1\n",
    "        action = agent.act(state, 0)\n",
    "        env_info = env.step(action)[brain_name]\n",
    "        next_state = env_info.vector_observations[0]   # get the next state\n",
    "        reward = env_info.rewards[0]                   # get the reward\n",
    "        done = env_info.local_done[0]                  # see if episode has finished\n",
    "        state = next_state\n",
    "        score += reward\n",
    "        time.sleep(0.05)\n",
    "        if reward==1:\n",
    "            print(\"Yellow!\")\n",
    "        elif reward==-1:\n",
    "            print(\"Blue...\")\n",
    "        if done:\n",
    "            break\n",
    "\n",
    "            \n",
    "print('Number of steps = ' + str(steps))\n",
    "print('Score = ' + str(score))"
   ]
  },
  {
   "cell_type": "markdown",
   "metadata": {},
   "source": [
    "## Load previously trained agent (memory and network weights):"
   ]
  },
  {
   "cell_type": "code",
   "execution_count": 18,
   "metadata": {},
   "outputs": [],
   "source": [
    "from dqn_agent import Agent\n",
    "\n",
    "agent = Agent(state_size=37, action_size=4, seed=0, fc1_units=50, fc2_units=40)\n",
    "\n",
    "\n",
    "import pickle\n",
    "buffSize = int(1e5)\n",
    "\n",
    "with open('checkpoint600_37fc50fc40fc4_memory_pickelTest1.dat','rb') as inpf:\n",
    "    for i in range(buffSize):\n",
    "        state, action, reward, next_state, done = (pickle.load(inpf), pickle.load(inpf), pickle.load(inpf), pickle.load(inpf), pickle.load(inpf))\n",
    "        agent.memory.add(state, action, reward, next_state, done)\n",
    "        \n",
    "import torch\n",
    "state_dict = torch.load('checkpoint600_37fc50fc40fc4.pth')\n",
    "agent.qnetwork_local.load_state_dict(state_dict)\n",
    "agent.qnetwork_target.load_state_dict(state_dict)"
   ]
  },
  {
   "cell_type": "code",
   "execution_count": 14,
   "metadata": {},
   "outputs": [],
   "source": [
    "env.close()"
   ]
  },
  {
   "cell_type": "code",
   "execution_count": null,
   "metadata": {},
   "outputs": [],
   "source": []
  }
 ],
 "metadata": {
  "kernelspec": {
   "display_name": "drlnd",
   "language": "python",
   "name": "drlnd"
  },
  "language_info": {
   "codemirror_mode": {
    "name": "ipython",
    "version": 3
   },
   "file_extension": ".py",
   "mimetype": "text/x-python",
   "name": "python",
   "nbconvert_exporter": "python",
   "pygments_lexer": "ipython3",
   "version": "3.6.8"
  }
 },
 "nbformat": 4,
 "nbformat_minor": 2
}
